{
  "nbformat": 4,
  "nbformat_minor": 0,
  "metadata": {
    "colab": {
      "provenance": [],
      "mount_file_id": "1VyiUksYtGvfsoM0r50FXHVOM88hkQLnA",
      "authorship_tag": "ABX9TyOND3NHNaCYbQIWSwpMbV3q",
      "include_colab_link": true
    },
    "kernelspec": {
      "name": "python3",
      "display_name": "Python 3"
    },
    "language_info": {
      "name": "python"
    }
  },
  "cells": [
    {
      "cell_type": "markdown",
      "metadata": {
        "id": "view-in-github",
        "colab_type": "text"
      },
      "source": [
        "<a href=\"https://colab.research.google.com/github/CodeHunterOfficial/NLP-2024-2025/blob/main/Lecture_5_%D0%9A%D0%BB%D0%B0%D1%81%D1%82%D0%B5%D1%80%D0%B8%D0%B7%D0%B0%D1%86%D0%B8%D1%8F.ipynb\" target=\"_parent\"><img src=\"https://colab.research.google.com/assets/colab-badge.svg\" alt=\"Open In Colab\"/></a>"
      ]
    },
    {
      "cell_type": "markdown",
      "source": [
        "# Lecture 5. Кластеризация\n"
      ],
      "metadata": {
        "id": "Pu47_RWM9bUm"
      }
    },
    {
      "cell_type": "markdown",
      "source": [
        "## 5.1. Основные показатели, используемые для оценки эффективности алгоритмов кластеризации\n",
        "\n",
        "Эффективность алгоритмов кластеризации оценивается на основе нескольких ключевых показателей, которые позволяют определить качество разбиения данных на группы. К основным метрикам, применяемым в данной области, относятся внутрикластерная дисперсия (WCSS), межкластерная дисперсия (BCSS), силуэтный коэффициент, индекс Дэвиса-Болдина, индекс Рэнда и скорректированный индекс Рэнда, а также гомогенность и полнота. Эти показатели обеспечивают всестороннюю оценку кластеризации, позволяя исследователям сравнивать и выбирать наиболее подходящие алгоритмы для конкретных задач.\n",
        "\n",
        "**Внутрикластерная дисперсия (Within-Cluster Sum of Squares, WCSS)**\n",
        "\n",
        "Внутрикластерная дисперсия измеряет сумму квадратов расстояний от каждого объекта до центра своего кластера. Формально, данный показатель определяется как:\n",
        "\n",
        "$$ WCSS = \\sum_{i=1}^{k} \\sum_{x \\in C_i} (x - \\mu_i)^2 $$\n",
        "\n",
        "где $C_i $ обозначает кластер, $\\mu_i$ — центр кластера, а $x $ — объект данных. Цель заключается в минимизации значения WCSS, что свидетельствует о плотной группировке объектов внутри кластеров.\n",
        "\n"
      ],
      "metadata": {
        "id": "tp6nPzVtXZnw"
      }
    },
    {
      "cell_type": "markdown",
      "source": [
        "### Пример\n",
        "Предположим, у нас есть три кластера с центрами в координатах (1,1), (5,5) и (9,9). Объекты в этих кластерах имеют следующие координаты:\n",
        "\n",
        "- Кластер 1: (1,2), (2,1), (1,1)\n",
        "- Кластер 2: (5,6), (6,5), (5,5)\n",
        "- Кластер 3: (9,8), (8,9), (9,9)\n",
        "\n",
        "Вычислим внутрикластерную дисперсию (WCSS):\n",
        "\n",
        "$$ WCSS = \\sum_{i=1}^{k} \\sum_{x \\in C_i} (x - \\mu_i)^2 $$\n",
        "\n",
        "Для кластера 1:\n",
        "- Расстояние от (1,2) до (1,1): \\((1-1)^2 + (2-1)^2 = 0 + 1 = 1\\)\n",
        "- Расстояние от (2,1) до (1,1): \\((2-1)^2 + (1-1)^2 = 1 + 0 = 1\\)\n",
        "- Расстояние от (1,1) до (1,1): \\((1-1)^2 + (1-1)^2 = 0 + 0 = 0\\)\n",
        "\n",
        "Для кластера 2:\n",
        "- Расстояние от (5,6) до (5,5): \\((5-5)^2 + (6-5)^2 = 0 + 1 = 1\\)\n",
        "- Расстояние от (6,5) до (5,5): \\((6-5)^2 + (5-5)^2 = 1 + 0 = 1\\)\n",
        "- Расстояние от (5,5) до (5,5): \\((5-5)^2 + (5-5)^2 = 0 + 0 = 0\\)\n",
        "\n",
        "Для кластера 3:\n",
        "- Расстояние от (9,8) до (9,9): \\((9-9)^2 + (8-9)^2 = 0 + 1 = 1\\)\n",
        "- Расстояние от (8,9) до (9,9): \\((8-9)^2 + (9-9)^2 = 1 + 0 = 1\\)\n",
        "- Расстояние от (9,9) до (9,9): \\((9-9)^2 + (9-9)^2 = 0 + 0 = 0\\)\n",
        "\n",
        "Итак, \\( WCSS = 1 + 1 + 0 + 1 + 1 + 0 + 1 + 1 + 0 = 6 \\).\n"
      ],
      "metadata": {
        "id": "p5XXJBIQ8Wq9"
      }
    },
    {
      "cell_type": "markdown",
      "source": [
        "\n",
        "**Межкластерная дисперсия (Between-Cluster Sum of Squares, BCSS)**\n",
        "\n",
        "Межкластерная дисперсия характеризует сумму квадратов расстояний между центрами кластеров. Этот показатель рассчитывается по формуле:\n",
        "\n",
        "$$ BCSS = \\sum_{i=1}^{k} n_i (\\mu_i - \\mu)^2 $$\n",
        "\n",
        "где $n_i $ — количество объектов в кластере, $ \\mu_i $ — центр кластера, а $\\mu $ — общий центр всех данных. Оптимизация алгоритма направлена на максимизацию значения BCSS, что указывает на значительные различия между кластерами.\n",
        "\n"
      ],
      "metadata": {
        "id": "nPDHVCKf8W0C"
      }
    },
    {
      "cell_type": "markdown",
      "source": [
        "\n",
        "### Пример\n",
        "Центры кластеров: (1,1), (5,5), (9,9). Общий центр всех данных (среднее арифметическое всех точек): (5,5).\n",
        "\n",
        "$$ BCSS = \\sum_{i=1}^{k} n_i (\\mu_i - \\mu)^2 $$\n",
        "\n",
        "- Для кластера 1: $ n_1 = 3 $, $ \\mu_1 = (1,1) $, $ (\\mu_1 - \\mu)^2 = ((1-5)^2 + (1-5)^2) = 16 + 16 = 32 $\n",
        "- Для кластера 2: $ n_2 = 3 $, $ \\mu_2 = (5,5) $, $ (\\mu_2 - \\mu)^2 = ((5-5)^2 + (5-5)^2) = 0 + 0 = 0 $\n",
        "- Для кластера 3: $ n_3 = 3 $, $ \\mu_3 = (9,9) $, $ (\\mu_3 - \\mu)^2 = ((9-5)^2 + (9-5)^2) = 16 + 16 = 32 $\n",
        "\n",
        "Итак, $ BCSS = 3 \\cdot 32 + 3 \\cdot 0 + 3 \\cdot 32 = 96 + 0 + 96 = 192 $.\n",
        "\n",
        "\n"
      ],
      "metadata": {
        "id": "HgthK7wT8aEL"
      }
    },
    {
      "cell_type": "markdown",
      "source": [
        "**Силуэтный коэффициент (Silhouette Score)**\n",
        "\n",
        "Силуэтный коэффициент оценивает, насколько объекты внутри кластера схожи друг с другом и отличаются от объектов других кластеров. Формула данного показателя выглядит следующим образом:\n",
        "\n",
        "$$s(i) = \\frac{b(i) - a(i)}{\\max(a(i), b(i))} $$\n",
        "\n",
        "где $ a(i) $ — среднее расстояние до других объектов в том же кластере, а $ b(i) $ — среднее расстояние до объектов в ближайшем другом кластере. Значения силуэтного коэффициента варьируются от -1 до 1, где 1 указывает на идеальную кластеризацию, а -1 — на неудовлетворительную.\n",
        "\n"
      ],
      "metadata": {
        "id": "m3gjjQWU8aaD"
      }
    },
    {
      "cell_type": "markdown",
      "source": [
        "\n",
        "### Пример\n",
        "Рассмотрим объект (1,2) в кластере 1. Пусть его среднее расстояние до других объектов в своем кластере (1,1) и (2,1) составляет 1, а среднее расстояние до объектов ближайшего другого кластера 2 составляет 6.\n",
        "\n",
        "$$ s(i) = \\frac{b(i) - a(i)}{\\max(a(i), b(i))} $$\n",
        "\n",
        "$$ s(1,2) = \\frac{6 - 1}{\\max(1, 6)} = \\frac{5}{6} \\approx 0.83 $$\n",
        "\n"
      ],
      "metadata": {
        "id": "ugCzrIVS8cpN"
      }
    },
    {
      "cell_type": "markdown",
      "source": [
        "**Индекс Дэвиса-Болдина (Davis-Bouldin Index)**\n",
        "\n",
        "Индекс Дэвиса-Болдина является средним значением отношения внутрикластерного расстояния к межкластерному расстоянию для каждого кластера. Он вычисляется по формуле:\n",
        "\n",
        "$$DB = \\frac{1}{k} \\sum_{i=1}^{k} \\max_{j \\neq i} \\left( \\frac{\\sigma_i + \\sigma_j}{d(\\mu_i, \\mu_j)} \\right) $$\n",
        "\n",
        "где $ \\sigma_i$ — среднее расстояние объектов до центра кластера, $ d(\\mu_i, \\mu_j) $ — расстояние между центрами кластеров $i $ и $ j$. Меньшие значения индекса Дэвиса-Болдина указывают на лучшую кластеризацию.\n",
        "\n"
      ],
      "metadata": {
        "id": "1CzFtD1S8cvM"
      }
    },
    {
      "cell_type": "markdown",
      "source": [
        "### Пример\n",
        "Рассмотрим три кластера с внутрикластерными средними расстояниями:\n",
        "- Кластер 1: $\\sigma_1 = 1$\n",
        "- Кластер 2: $\\sigma_2 = 1$\n",
        "- Кластер 3: $\\sigma_3 = 1$\n",
        "\n",
        "Расстояния между центрами:\n",
        "- $d(\\mu_1, \\mu_2) = 5.66$\n",
        "- $d(\\mu_1, \\mu_3) = 11.31$\n",
        "- $d(\\mu_2, \\mu_3) = 5.66$\n",
        "\n",
        "$$ DB = \\frac{1}{k} \\sum_{i=1}^{k} \\max_{j \\neq i} \\left( \\frac{\\sigma_i + \\sigma_j}{d(\\mu_i, \\mu_j)} \\right) $$\n",
        "\n",
        "Для кластера 1:\n",
        "$$ \\max \\left( \\frac{\\sigma_1 + \\sigma_2}{d(\\mu_1, \\mu_2)}, \\frac{\\sigma_1 + \\sigma_3}{d(\\mu_1, \\mu_3)} \\right) = \\max \\left( \\frac{1+1}{5.66}, \\frac{1+1}{11.31} \\right) = \\frac{2}{5.66} \\approx 0.35 $$\n",
        "\n",
        "Для кластера 2:\n",
        "$$ \\max \\left( \\frac{\\sigma_2 + \\sigma_1}{d(\\mu_2, \\mu_1)}, \\frac{\\sigma_2 + \\sigma_3}{d(\\mu_2, \\mu_3)} \\right) = \\max \\left( \\frac{1+1}{5.66}, \\frac{1+1}{5.66} \\right) = \\frac{2}{5.66} \\approx 0.35 $$\n",
        "\n",
        "Для кластера 3:\n",
        "$$ \\max \\left( \\frac{\\sigma_3 + \\sigma_1}{d(\\mu_3, \\mu_1)}, \\frac{\\sigma_3 + \\sigma_2}{d(\\mu_3, \\mu_2)} \\right) = \\max \\left( \\frac{1+1}{11.31}, \\frac{1+1}{5.66} \\right) = \\frac{2}{5.66} \\approx 0.35 $$\n",
        "\n",
        "Итак, $ DB = \\frac{1}{3} (0.35 + 0.35 + 0.35) = 0.35 $.\n",
        "\n",
        "\n"
      ],
      "metadata": {
        "id": "XYnZNL4H8ewT"
      }
    },
    {
      "cell_type": "markdown",
      "source": [
        "**Индекс Рэнда (Rand Index) и скорректированный индекс Рэнда (Adjusted Rand Index, ARI)**\n",
        "\n",
        "Индекс Рэнда и его скорректированная версия оценивают сходство между предсказанными кластерами и истинной кластеризацией. Формула индекса Рэнда выглядит так:\n",
        "\n",
        "$$RI = \\frac{TP + TN}{TP + FP + FN + TN} $$\n",
        "\n",
        "где TP, TN, FP, FN — числа истинных и ложных совпадений. Скорректированный индекс Рэнда (ARI) корректирует случайные совпадения, и его значения могут варьироваться от -1 до 1, где 1 означает идеальную кластеризацию.\n",
        "\n"
      ],
      "metadata": {
        "id": "LSHvb2vY8e47"
      }
    },
    {
      "cell_type": "markdown",
      "source": [
        "### Пример\n",
        "Предположим, у нас есть истинная кластеризация и предсказанная кластеризация для 10 объектов.\n",
        "\n",
        "- Истинная кластеризация: (1,1,1,1,2,2,2,2,3,3)\n",
        "- Предсказанная кластеризация: (1,1,1,2,2,2,3,3,3,3)\n",
        "\n",
        "Посчитаем количество TP, TN, FP, FN:\n",
        "\n",
        "- TP (True Positive): количество пар объектов, которые находятся в одном кластере и в истинной, и в предсказанной кластеризации (6).\n",
        "- TN (True Negative): количество пар объектов, которые находятся в разных кластерах и в истинной, и в предсказанной кластеризации (12).\n",
        "- FP (False Positive): количество пар объектов, которые находятся в одном кластере в предсказанной, но в разных в истинной кластеризации (4).\n",
        "- FN (False Negative): количество пар объектов, которые находятся в разных кластерах в предсказанной, но в одном в истинной кластеризации (4).\n",
        "\n",
        "$$ RI = \\frac{TP + TN}{TP + FP + FN + TN} = \\frac{6 + 12}{6 + 4 + 4 + 12} = \\frac{18}{26} \\approx 0.69 $$\n",
        "\n",
        "Скорректированный индекс Рэнда (ARI) может быть посчитан с использованием более сложной формулы, но для примера скажем, что его значение получилось 0.55.\n"
      ],
      "metadata": {
        "id": "zdcMabSR8g4r"
      }
    },
    {
      "cell_type": "markdown",
      "source": [
        "**Гомогенность (Homogeneity) и полнота (Completeness)**\n",
        "\n",
        "Гомогенность (Homogeneity) и полнота (Completeness) — это показатели, которые оценивают соответствие кластеров истинным классам. Гомогенность означает, что все элементы кластера принадлежат одному классу, а полнота указывает, что все элементы одного класса отнесены к одному кластеру.\n",
        "\n",
        "Формально, гомогенность $ h $ и полнота $ c $ можно определить следующим образом:\n",
        "\n",
        "1. **Гомогенность (Homogeneity)**:\n",
        "$$ h = 1 - \\frac{H(C|K)}{H(C)} $$\n",
        "где:\n",
        "- $ H(C|K) $ — условная энтропия классов $ C $ при заданных кластерах $ K $.\n",
        "- $ H(C) $ — энтропия классов $ C $.\n",
        "\n",
        "2. **Полнота (Completeness)**:\n",
        "$$ c = 1 - \\frac{H(K|C)}{H(K)} $$\n",
        "где:\n",
        "- $ H(K|C) $ — условная энтропия кластеров $ K $ при заданных классах $ C $.\n",
        "- $ H(K) $ — энтропия кластеров $ K $.\n",
        "\n",
        "Индекс V-Measure представляет собой гармоническое среднее гомогенности и полноты, что позволяет учитывать оба аспекта одновременно. Он рассчитывается как:\n",
        "\n",
        "$$ V = 2 \\cdot \\frac{h \\cdot c}{h + c} $$\n",
        "\n",
        "Таким образом, V-Measure является сбалансированным показателем, который объединяет как гомогенность, так и полноту, позволяя более всесторонне оценить качество кластеризации.\n",
        "\n",
        "\n"
      ],
      "metadata": {
        "id": "e_bfFn948g8z"
      }
    },
    {
      "cell_type": "markdown",
      "source": [
        "### Пример\n",
        "\n",
        "Предположим, что у нас есть набор данных с элементами, принадлежащими трём истинным классам $ C = \\{C_1, C_2, C_3\\} $, и что алгоритм кластеризации распределил эти элементы по трём кластерам $ K = \\{K_1, K_2, K_3\\} $.\n",
        "\n",
        "### Матрица смежности\n",
        "\n",
        "Для наглядности представим матрицу смежности (матрицу сопряженности), которая показывает распределение элементов по классам и кластерам:\n",
        "\n",
        "|        | $ K_1 $ | $ K_2 $ | $ K_3 $ |\n",
        "|--------|----------|----------|----------|\n",
        "| $ C_1 $ |    10    |     0    |     0    |\n",
        "| $ C_2 $ |     0    |    15    |     0    |\n",
        "| $ C_3 $ |     5    |     5    |    10    |\n",
        "\n",
        "### 1. Вычисление энтропии классов $ H(C) $:\n",
        "\n",
        "$$\n",
        "H(C) = - \\left( \\frac{10}{30} \\log \\frac{10}{30} + \\frac{15}{30} \\log \\frac{15}{30} + \\frac{5}{30} \\log \\frac{5}{30} \\right)\n",
        "$$\n",
        "\n",
        "$$\n",
        "H(C) = - \\left( \\frac{1}{3} \\log \\frac{1}{3} + \\frac{1}{2} \\log \\frac{1}{2} + \\frac{1}{6} \\log \\frac{1}{6} \\right)\n",
        "$$\n",
        "\n",
        "$$\n",
        "H(C) = - \\left( \\frac{1}{3} \\cdot (-1.099) + \\frac{1}{2} \\cdot (-0.693) + \\frac{1}{6} \\cdot (-1.792) \\right)\n",
        "$$\n",
        "\n",
        "$$\n",
        "H(C) \\approx - \\left( -0.366 + -0.347 + -0.299 \\right) = 1.012\n",
        "$$\n",
        "\n",
        "### 2. Вычисление энтропии кластеров $ H(K) $:\n",
        "\n",
        "$$\n",
        "H(K) = - \\left( \\frac{15}{30} \\log \\frac{15}{30} + \\frac{10}{30} \\log \\frac{10}{30} + \\frac{5}{30} \\log \\frac{5}{30} \\right)\n",
        "$$\n",
        "\n",
        "$$\n",
        "H(K) = - \\left( \\frac{1}{2} \\log \\frac{1}{2} + \\frac{1}{3} \\log \\frac{1}{3} + \\frac{1}{6} \\log \\frac{1}{6} \\right)\n",
        "$$\n",
        "\n",
        "$$\n",
        "H(K) = - \\left( 0.5 \\cdot (-0.693) + 0.333 \\cdot (-1.099) + 0.167 \\cdot (-1.792) \\right)\n",
        "$$\n",
        "\n",
        "$$\n",
        "H(K) \\approx - \\left( -0.347 + -0.366 + -0.299 \\right) = 1.012\n",
        "$$\n",
        "\n",
        "### 3. Вычисление условной энтропии классов $ H(C|K) $:\n",
        "\n",
        "$$\n",
        "H(C|K) = - \\left( \\frac{15}{30} \\left( \\frac{10}{15} \\log \\frac{10}{15} + \\frac{5}{15} \\log \\frac{5}{15} \\right) + \\frac{10}{30} \\left( \\frac{10}{10} \\log \\frac{10}{10} \\right) + \\frac{5}{30} \\left( \\frac{5}{5} \\log \\frac{5}{5} \\right) \\right)\n",
        "$$\n",
        "\n",
        "$$\n",
        "H(C|K) = - \\left( \\frac{1}{2} \\left( \\frac{2}{3} \\log \\frac{2}{3} + \\frac{1}{3} \\log \\frac{1}{3} \\right) + \\frac{1}{3} \\cdot 0 + \\frac{1}{6} \\cdot 0 \\right)\n",
        "$$\n",
        "\n",
        "$$\n",
        "H(C|K) = - \\left( \\frac{1}{2} \\left( -0.176 + -0.477 \\right) \\right)\n",
        "$$\n",
        "\n",
        "$$\n",
        "H(C|K) \\approx - \\left( \\frac{1}{2} \\left( -0.117 + -0.159 \\right) \\right)\n",
        "$$\n",
        "\n",
        "$$\n",
        "H(C|K) \\approx - \\left( \\frac{1}{2} \\cdot -0.276 \\right) = 0.138\n",
        "$$\n",
        "\n",
        "### 4. Вычисление условной энтропии кластеров $ H(K|C) $:\n",
        "\n",
        "$$\n",
        "H(K|C) = - \\left( \\frac{10}{30} \\left( \\frac{10}{10} \\log \\frac{10}{10} \\right) + \\frac{15}{30} \\left( \\frac{15}{15} \\log \\frac{15}{15} \\right) + \\frac{5}{30} \\left( \\frac{5}{10} \\log \\frac{5}{10} + \\frac{5}{10} \\log \\frac{5}{10} \\right) \\right)\n",
        "$$\n",
        "\n",
        "$$\n",
        "H(K|C) = - \\left( \\frac{1}{3} \\cdot 0 + \\frac{1}{2} \\cdot 0 + \\frac{1}{6} \\left( 2 \\cdot 0.5 \\cdot (-0.301) \\right) \\right)\n",
        "$$\n",
        "\n",
        "$$\n",
        "H(K|C) = - \\left( 0 + 0 + \\frac{1}{6} \\left( -0.602 \\right) \\right) = 0.100\n",
        "$$\n",
        "\n",
        "### 5. Вычисление гомогенности и полноты:\n",
        "\n",
        "#### Гомогенность (Homogeneity):\n",
        "\n",
        "$$\n",
        "h = 1 - \\frac{H(C|K)}{H(C)} = 1 - \\frac{0.138}{1.012} \\approx 0.864\n",
        "$$\n",
        "\n",
        "#### Полнота (Completeness):\n",
        "\n",
        "$$\n",
        "c = 1 - \\frac{H(K|C)}{H(K)} = 1 - \\frac{0.100}{1.012} \\approx 0.901\n",
        "$$\n",
        "\n",
        "### 6. Вычисление индекса V-Measure:\n",
        "\n",
        "$$\n",
        "V = 2 \\cdot \\frac{h \\cdot c}{h + c} = 2 \\cdot \\frac{0.864 \\cdot 0.901}{0.864 + 0.901} \\approx 2 \\cdot \\frac{0.778}{1.765} \\approx 0.881\n",
        "$$\n",
        "\n",
        "### Итоги:\n",
        "\n",
        "- **Гомогенность** $ h \\approx 0.864 $\n",
        "- **Полнота** $ c \\approx 0.901 $\n",
        "- **Индекс V-Measure** $ V \\approx 0.881 $\n",
        "\n",
        "Этот пример показывает, как с помощью формул можно оценить качество кластеризации данных, используя показатели гомогенности и полноты, а также их гармоническое среднее — индекс V-Measure.\n",
        "\n"
      ],
      "metadata": {
        "id": "LQ8HNnZ98jZE"
      }
    },
    {
      "cell_type": "markdown",
      "source": [
        "**Методы сравнения алгоритмов**\n",
        "\n",
        "Сравнение алгоритмов кластеризации проводится с использованием визуализации кластеров, кросс-валидации и сравнения с эталонными данными. Визуализация с помощью графиков, таких как scatter plot, и методов понижения размерности, таких как PCA или t-SNE, помогает визуально оценить качество кластеризации. Кросс-валидация позволяет оценить стабильность алгоритма на разных подмножествах данных. Сравнение с эталонными данными, если они доступны, дает возможность объективной оценки результатов.\n",
        "\n",
        "Эти показатели и методы анализа обеспечивают всестороннюю оценку эффективности алгоритмов кластеризации, помогая исследователям выбрать наиболее подходящие методы для решения конкретных задач."
      ],
      "metadata": {
        "id": "s05RxTr18jcg"
      }
    },
    {
      "cell_type": "markdown",
      "source": [],
      "metadata": {
        "id": "xKW8ExrO8kIz"
      }
    },
    {
      "cell_type": "markdown",
      "source": [
        "\n",
        "## 5.2. Основные алгоритмы кластеризации\n",
        "\n",
        "Кластеризация представляет собой важную задачу в области анализа данных и машинного обучения, целью которой является группировка объектов в такие кластеры, что объекты внутри одного кластера максимально похожи друг на друга, а объекты из разных кластеров — максимально различны. В данной главе рассмотрены основные алгоритмы кластеризации, их преимущества и недостатки, а также современные модификации, адаптирующие эти алгоритмы к специфике данных социальных сетей."
      ],
      "metadata": {
        "id": "gzC4uFd04rSB"
      }
    },
    {
      "cell_type": "markdown",
      "source": [
        "## Алгоритм k средних (k-means)"
      ],
      "metadata": {
        "id": "RssbaQB8NfEC"
      }
    },
    {
      "cell_type": "markdown",
      "source": [
        "K-Means — это популярный алгоритм кластеризации, который используется для разделения набора данных на $ k$ кластеров, где каждый кластер состоит из близко расположенных друг к другу точек. Он основан на минимизации внутрикластерного расстояния, которое обычно измеряется как сумма квадратов расстояний от каждой точки до центра ее кластера.\n",
        "\n",
        "### Основные шаги алгоритма K-Means:\n",
        "\n",
        "1. **Инициализация**: Выбираются $ k$ начальных центроидов (центров кластеров). Это можно сделать случайным образом или с использованием различных методов, таких как K-Means++.\n",
        "2. **Назначение кластеров**: Каждая точка данных назначается к кластеру, центроид которого находится к ней ближе всего. Это делается путем вычисления евклидова расстояния от точки до всех центроидов.\n",
        "3. **Обновление центроидов**: Новые центроиды рассчитываются как среднее арифметическое всех точек, принадлежащих кластерам.\n",
        "4. **Повторение**: Шаги 2 и 3 повторяются до тех пор, пока центроиды не перестанут изменяться или не будет достигнуто заданное количество итераций.\n",
        "\n",
        "### Математическое описание\n",
        "\n",
        "#### Евклидово расстояние\n",
        "Евклидово расстояние между двумя точками $ x = (x_1, x_2, ..., x_n)$ и $ y = (y_1, y_2, ..., y_n)$ в $ n$-мерном пространстве вычисляется как:\n",
        "$$d(x, y) = \\sqrt{\\sum_{i=1}^{n} (x_i - y_i)^2} $$\n",
        "\n",
        "#### Обновление центроидов\n",
        "Если $ C_j$ — это множество точек, принадлежащих кластеру $ j$, то новый центроид $ \\mu_j$ для этого кластера вычисляется как:\n",
        "$$\\mu_j = \\frac{1}{|C_j|} \\sum_{x \\in C_j} x $$\n",
        "\n",
        "#### Функция стоимости (инерция)\n",
        "Цель алгоритма K-Means — минимизировать внутрикластерную сумму квадратов расстояний, также известную как инерция:\n",
        "$$J = \\sum_{j=1}^{k} \\sum_{x \\in C_j} \\|x - \\mu_j\\|^2 $$\n",
        "\n",
        "### Пример\n",
        "\n",
        "Рассмотрим простой пример с двумя кластерами $ k = 2$ и набором данных, состоящим из 6 точек на плоскости $(x, y)$:\n",
        "$$\n",
        "\\{(2, 3), (3, 3), (6, 8), (8, 8), (2, 1), (5, 2)\\}\n",
        "$$\n",
        "\n",
        "#### Инициализация\n",
        "\n",
        "Пусть начальные центроиды будут выбраны случайным образом:\n",
        "$$\n",
        "\\mu_1 = (2, 3), \\quad \\mu_2 = (6, 8)\n",
        "$$\n",
        "\n",
        "#### Шаг 1: Назначение кластеров\n",
        "\n",
        "Вычисляем расстояние от каждой точки до центроидов и назначаем точки кластерам:\n",
        "\n",
        "- $ (2, 3)$: $ d((2, 3), (2, 3)) = 0$, $ d((2, 3), (6, 8)) = \\sqrt{(2-6)^2 + (3-8)^2} = \\sqrt{16 + 25} = \\sqrt{41} \\approx 6.4$ → Кластер 1\n",
        "- $ (3, 3)$: $ d((3, 3), (2, 3)) = 1$, $ d((3, 3), (6, 8)) = \\sqrt{(3-6)^2 + (3-8)^2} = \\sqrt{9 + 25} = \\sqrt{34} \\approx 5.8$ → Кластер 1\n",
        "- $ (6, 8)$: $ d((6, 8), (2, 3)) = \\sqrt{(6-2)^2 + (8-3)^2} = \\sqrt{16 + 25} = \\sqrt{41} \\approx 6.4$, $ d((6, 8), (6, 8)) = 0$ → Кластер 2\n",
        "- $ (8, 8)$: $ d((8, 8), (2, 3)) = \\sqrt{(8-2)^2 + (8-3)^2} = \\sqrt{36 + 25} = \\sqrt{61} \\approx 7.8$, $ d((8, 8), (6, 8)) = \\sqrt{(8-6)^2 + (8-8)^2} = \\sqrt{4} = 2$ → Кластер 2\n",
        "- $ (2, 1)$: $ d((2, 1), (2, 3)) = \\sqrt{(2-2)^2 + (1-3)^2} = \\sqrt{4} = 2$, $ d((2, 1), (6, 8)) = \\sqrt{(2-6)^2 + (1-8)^2} = \\sqrt{16 + 49} = \\sqrt{65} \\approx 8.1$ → Кластер 1\n",
        "- $ (5, 2)$: $ d((5, 2), (2, 3)) = \\sqrt{(5-2)^2 + (2-3)^2} = \\sqrt{9 + 1} = \\sqrt{10} \\approx 3.2$, $ d((5, 2), (6, 8)) = \\sqrt{(5-6)^2 + (2-8)^2} = \\sqrt{1 + 36} = \\sqrt{37} \\approx 6.1$ → Кластер 1\n",
        "\n",
        "Итак, кластеры:\n",
        "- Кластер 1: $ (2, 3), (3, 3), (2, 1), (5, 2)$\n",
        "- Кластер 2: $ (6, 8), (8, 8)$\n",
        "\n",
        "#### Шаг 2: Обновление центроидов\n",
        "\n",
        "Новые центроиды вычисляются как средние значения точек в кластерах:\n",
        "- $ \\mu_1 = \\left( \\frac{2 + 3 + 2 + 5}{4}, \\frac{3 + 3 + 1 + 2}{4} \\right) = (3, 2.25)$\n",
        "- $ \\mu_2 = \\left( \\frac{6 + 8}{2}, \\frac{8 + 8}{2} \\right) = (7, 8)$\n",
        "\n",
        "#### Повторение шагов 1 и 2\n",
        "\n",
        "Процесс повторяется с новыми центроидами, пока центроиды не перестанут изменяться или не будет достигнуто максимальное количество итераций.\n",
        "\n",
        "Таким образом, алгоритм K-Means — это итеративный процесс, который минимизирует внутрикластерное расстояние, обеспечивая эффективную кластеризацию данных. Важно помнить, что результат может зависеть от начальной инициализации центроидов, поэтому часто используется несколько запусков алгоритма с разными начальными условиями, чтобы найти оптимальное решение.\n",
        "\n"
      ],
      "metadata": {
        "id": "af1zrgwyNo3I"
      }
    },
    {
      "cell_type": "markdown",
      "source": [
        "Приведем пример реализации алгоритма K-Means на языке Python. Будем использовать библиотеки NumPy для работы с массивами и Matplotlib для визуализации результатов."
      ],
      "metadata": {
        "id": "8_Q8916WPUVw"
      }
    },
    {
      "cell_type": "code",
      "source": [
        "import numpy as np\n",
        "import matplotlib.pyplot as plt\n",
        "\n",
        "def initialize_centroids(X, k):\n",
        "    \"\"\"Инициализация центроидов путем случайного выбора k точек из данных\"\"\"\n",
        "    indices = np.random.choice(X.shape[0], k, replace=False)\n",
        "    return X[indices]\n",
        "\n",
        "def assign_clusters(X, centroids):\n",
        "    \"\"\"Назначение точек кластерам на основе ближайших центроидов\"\"\"\n",
        "    distances = np.linalg.norm(X[:, np.newaxis] - centroids, axis=2)\n",
        "    return np.argmin(distances, axis=1)\n",
        "\n",
        "def update_centroids(X, labels, k):\n",
        "    \"\"\"Обновление центроидов как средних значений точек в кластерах\"\"\"\n",
        "    centroids = np.zeros((k, X.shape[1]))\n",
        "    for i in range(k):\n",
        "        points_in_cluster = X[labels == i]\n",
        "        if len(points_in_cluster) > 0:\n",
        "            centroids[i] = points_in_cluster.mean(axis=0)\n",
        "    return centroids\n",
        "\n",
        "def kmeans(X, k, max_iters=100):\n",
        "    \"\"\"Основная функция для выполнения алгоритма K-Means\"\"\"\n",
        "    centroids = initialize_centroids(X, k)\n",
        "    for _ in range(max_iters):\n",
        "        labels = assign_clusters(X, centroids)\n",
        "        new_centroids = update_centroids(X, labels, k)\n",
        "        if np.all(centroids == new_centroids):\n",
        "            break\n",
        "        centroids = new_centroids\n",
        "    return centroids, labels\n",
        "\n",
        "# Пример использования\n",
        "if __name__ == \"__main__\":\n",
        "    # Генерация данных\n",
        "    X = np.array([\n",
        "        [2, 3], [3, 3], [6, 8], [8, 8], [2, 1], [5, 2]\n",
        "    ])\n",
        "\n",
        "    k = 2\n",
        "    centroids, labels = kmeans(X, k)\n",
        "\n",
        "    # Визуализация результатов\n",
        "    plt.scatter(X[:, 0], X[:, 1], c=labels, cmap='viridis')\n",
        "    plt.scatter(centroids[:, 0], centroids[:, 1], c='red', marker='x')\n",
        "    plt.xlabel('X1')\n",
        "    plt.ylabel('X2')\n",
        "    plt.title('K-Means Clustering')\n",
        "    plt.show()"
      ],
      "metadata": {
        "id": "OQvfG3EFPbmL",
        "colab": {
          "base_uri": "https://localhost:8080/",
          "height": 472
        },
        "outputId": "338f16e3-46af-481a-d286-36619f1a6597"
      },
      "execution_count": null,
      "outputs": [
        {
          "output_type": "display_data",
          "data": {
            "text/plain": [
              "<Figure size 640x480 with 1 Axes>"
            ],
            "image/png": "[encoded data removed]"
          },
          "metadata": {}
        }
      ]
    },
    {
      "cell_type": "markdown",
      "source": [
        "Данный код выпольняет следующие шаги:\n",
        "\n",
        "\n",
        "1. **Инициализация центроидов**: Функция `initialize_centroids` случайным образом выбирает \\( k \\) точек из набора данных в качестве начальных центроидов.\n",
        "2. **Назначение кластеров**: Функция `assign_clusters` вычисляет расстояния от каждой точки до центроидов и назначает точку тому кластеру, центроид которого находится ближе всего.\n",
        "3. **Обновление центроидов**: Функция `update_centroids` пересчитывает центроиды как средние значения точек в каждом кластере.\n",
        "4. **Основная функция**: В функции `kmeans` происходит итеративное выполнение шагов до тех пор, пока центроиды не перестанут изменяться или не будет достигнуто максимальное количество итераций.\n",
        "5. **Пример использования**: Генерируются данные, выполняется кластеризация, и результаты визуализируются с помощью Matplotlib.\n"
      ],
      "metadata": {
        "id": "dj_Ts-chPhOJ"
      }
    },
    {
      "cell_type": "markdown",
      "source": [
        "**Пример.**  Рассмотрим применение K-Means к задаче обработки естественного языка (NLP). Один из типичных примеров — кластеризация текстовых документов, например, новостных статей, отзывов пользователей или научных публикаций. Для этого сначала необходимо преобразовать текстовые данные в числовые векторы, чтобы алгоритм K-Means мог работать с ними. Одним из популярных способов такого преобразования является метод TF-IDF (Term Frequency-Inverse Document Frequency).\n",
        "\n",
        "### Пример: Кластеризация новостных статей\n",
        "\n",
        "#### 1. Преобразование текста в векторы с помощью TF-IDF\n",
        "\n",
        "TF-IDF — это метод, который измеряет важность термина в документе относительно всего корпуса документов.\n",
        "\n",
        "- TF (Term Frequency) измеряет частоту термина в документе.\n",
        "- IDF (Inverse Document Frequency) уменьшает вес часто встречающихся терминов в корпусе, увеличивая вес редких терминов.\n",
        "\n",
        "Формулы:\n",
        "- TF(term, document) = $\\frac{\\text{Количество вхождений термина в документ}}{\\text{Общее количество терминов в документе}}$\n",
        "- IDF(term, corpus) = $\\log\\left(\\frac{\\text{Общее количество документов}}{\\text{Количество документов, содержащих термин}}\\right)$\n",
        "- TF-IDF(term, document, corpus) = TF(term, document) * IDF(term, corpus)\n",
        "\n",
        "#### 2. Применение K-Means к векторизованным данным\n",
        "\n",
        "##### Шаги:\n",
        "\n",
        "1. **Сбор данных**: Собираем коллекцию текстовых документов.\n",
        "2. **Предобработка текста**: Удаление стоп-слов, лемматизация и стемминг.\n",
        "3. **Векторизация**: Преобразуем документы в векторы TF-IDF.\n",
        "4. **Кластеризация**: Применяем K-Means к полученным векторизованным данным.\n"
      ],
      "metadata": {
        "id": "59x7eRUIDorh"
      }
    },
    {
      "cell_type": "code",
      "source": [
        "import numpy as np\n",
        "import matplotlib.pyplot as plt\n",
        "from sklearn.feature_extraction.text import TfidfVectorizer\n",
        "from sklearn.cluster import KMeans\n",
        "from sklearn.decomposition import PCA\n",
        "\n",
        "# Обновленный пример набора данных (новостные статьи)\n",
        "documents = [\n",
        "    \"The economy is improving in the last quarter.\",\n",
        "    \"The president's speech about the economy was well-received.\",\n",
        "    \"Economic growth is forecasted for the next year.\",\n",
        "    \"The government is planning new economic reforms.\",\n",
        "    \"New advancements in AI technology are impressive.\",\n",
        "    \"AI technology is transforming the industry.\",\n",
        "    \"Tech companies are investing in AI research.\",\n",
        "    \"Innovations in AI continue to evolve rapidly.\",\n",
        "    \"The central bank's interest rate decision affects the economy.\",\n",
        "    \"Fiscal policies are essential for economic stability.\",\n",
        "    \"Machine learning algorithms are getting more sophisticated.\",\n",
        "    \"The rise of AI in healthcare is revolutionary.\",\n",
        "    \"AI-powered automation is boosting productivity.\",\n",
        "    \"Governments are regulating AI to ensure safety.\",\n",
        "    \"Economic indicators show positive trends for recovery.\",\n",
        "    \"Technological advancements are driving economic growth.\"\n",
        "]\n",
        "\n",
        "# Шаг 1: Преобразование текстов в TF-IDF векторы\n",
        "vectorizer = TfidfVectorizer(stop_words='english')\n",
        "X = vectorizer.fit_transform(documents)\n",
        "\n",
        "# Шаг 2: Применение K-Means для кластеризации документов\n",
        "k = 2  # количество кластеров\n",
        "kmeans = KMeans(n_clusters=k, random_state=0)\n",
        "kmeans.fit(X)\n",
        "\n",
        "# Получение меток кластеров\n",
        "labels = kmeans.labels_\n",
        "centroids = kmeans.cluster_centers_\n",
        "\n",
        "# Шаг 3: Понижение размерности данных для визуализации (PCA до 2D)\n",
        "pca = PCA(n_components=2)\n",
        "X_pca = pca.fit_transform(X.toarray())\n",
        "\n",
        "# Получение центроидов в новом пространстве\n",
        "centroids_pca = pca.transform(centroids)\n",
        "\n",
        "# Шаг 4: Визуализация результатов\n",
        "plt.figure(figsize=(10, 7))\n",
        "colors = ['b', 'g']\n",
        "\n",
        "for i in range(k):\n",
        "    points = X_pca[labels == i]\n",
        "    plt.scatter(points[:, 0], points[:, 1], s=50, c=colors[i], label=f'Cluster {i}')\n",
        "\n",
        "plt.scatter(centroids_pca[:, 0], centroids_pca[:, 1], s=300, c='red', marker='X', label='Centroids')\n",
        "plt.title('K-Means Clustering of Documents')\n",
        "plt.xlabel('PCA Component 1')\n",
        "plt.ylabel('PCA Component 2')\n",
        "plt.legend()\n",
        "plt.show()"
      ],
      "metadata": {
        "id": "DK3EdlRhEHby",
        "outputId": "dd9bf56c-39bd-4858-b02b-d4d300daa238",
        "colab": {
          "base_uri": "https://localhost:8080/",
          "height": 696
        }
      },
      "execution_count": 4,
      "outputs": [
        {
          "output_type": "stream",
          "name": "stderr",
          "text": [
            "/usr/local/lib/python3.10/dist-packages/sklearn/cluster/_kmeans.py:870: FutureWarning: The default value of `n_init` will change from 10 to 'auto' in 1.4. Set the value of `n_init` explicitly to suppress the warning\n",
            "  warnings.warn(\n"
          ]
        },
        {
          "output_type": "display_data",
          "data": {
            "text/plain": [
              "<Figure size 1000x700 with 1 Axes>"
            ],
            "image/png": "[encoded data removed]"
          },
          "metadata": {}
        }
      ]
    },
    {
      "cell_type": "markdown",
      "source": [
        "## Агоритм иерархическая Кластеризация"
      ],
      "metadata": {
        "id": "pdqV6QUQUIAv"
      }
    },
    {
      "cell_type": "markdown",
      "source": [
        "Иерархическая кластеризация — это метод кластеризации, который стремится построить иерархию кластеров. Существует два основных подхода к иерархической кластеризации: агломеративный (снизу вверх) и дивизионный (сверху вниз). Мы рассмотрим агломеративный подход, так как он наиболее распространён.\n",
        "\n",
        "### Агломеративная Иерархическая Кластеризация\n",
        "\n",
        "В агломеративной иерархической кластеризации каждый объект начинается как отдельный кластер, и кластеры последовательно объединяются, пока все объекты не окажутся в одном кластере. Основные шаги включают:\n",
        "\n",
        "1. **Инициализация**: Каждый объект рассматривается как отдельный кластер.\n",
        "2. **Поиск ближайших кластеров**: Вычисляются расстояния между всеми парами кластеров, и выбирается пара с минимальным расстоянием.\n",
        "3. **Объединение кластеров**: Выбранная пара кластеров объединяется в один кластер.\n",
        "4. **Повторение**: Шаги 2 и 3 повторяются до тех пор, пока все объекты не будут объединены в один кластер.\n",
        "\n",
        "### Математика и Методы Вычисления Расстояний\n",
        "\n",
        "#### 1. Метрика расстояния\n",
        "\n",
        "Обычно используется Евклидово расстояние, но могут использоваться и другие метрики, например, манхэттенское расстояние.\n",
        "\n",
        "**Евклидово расстояние** между двумя точками $ x_i $ и $ x_j $:\n",
        "\n",
        "$$ d(x_i, x_j) = \\sqrt{\\sum_{k=1}^n (x_{ik} - x_{jk})^2} $$\n",
        "\n",
        "#### 2. Связывание кластеров\n",
        "\n",
        "Есть несколько методов, которые определяют, как измерять расстояние между кластерами:\n",
        "\n",
        "- **Односвязный метод (Single Linkage)**: Расстояние между двумя кластерами определяется как расстояние между ближайшими точками кластеров.\n",
        "  \n",
        "  $$ d(A, B) = \\min_{a \\in A, b \\in B} d(a, b) $$\n",
        "\n",
        "- **Полносвязный метод (Complete Linkage)**: Расстояние между двумя кластерами определяется как расстояние между наиболее удалёнными точками кластеров.\n",
        "  \n",
        "  $$ d(A, B) = \\max_{a \\in A, b \\in B} d(a, b) $$\n",
        "\n",
        "- **Метод средней связи (Average Linkage)**: Расстояние между двумя кластерами определяется как среднее расстояние между всеми парами точек из этих кластеров.\n",
        "  \n",
        "  $$ d(A, B) = \\frac{1}{|A| \\cdot |B|} \\sum_{a \\in A} \\sum_{b \\in B} d(a, b) $$\n",
        "\n",
        "### Пример\n",
        "\n",
        "Рассмотрим следующий набор данных из четырёх точек в двумерном пространстве:\n",
        "\n",
        "$$\n",
        "\\begin{align*}\n",
        "A & = (1, 2) \\\\\n",
        "B & = (2, 2) \\\\\n",
        "C & = (4, 4) \\\\\n",
        "D & = (5, 4) \\\\\n",
        "\\end{align*}\n",
        "$$\n",
        "\n",
        "1. **Инициализация**: Начнем с каждого объекта как отдельного кластера.\n",
        "\n",
        "$$\n",
        "\\{A\\}, \\{B\\}, \\{C\\}, \\{D\\}\n",
        "$$\n",
        "\n",
        "2. **Поиск ближайших кластеров**:\n",
        "   $$\n",
        "   d(A, B) = \\sqrt{(1-2)^2 + (2-2)^2} = 1\n",
        "   $$\n",
        "   $$\n",
        "   d(A, C) = \\sqrt{(1-4)^2 + (2-4)^2} = \\sqrt{13}\n",
        "   $$\n",
        "   $$\n",
        "   d(A, D) = \\sqrt{(1-5)^2 + (2-4)^2} = \\sqrt{20}\n",
        "   $$\n",
        "   $$\n",
        "   d(B, C) = \\sqrt{(2-4)^2 + (2-4)^2} = \\sqrt{8}\n",
        "   $$\n",
        "   $$\n",
        "   d(B, D) = \\sqrt{(2-5)^2 + (2-4)^2} = \\sqrt{13}\n",
        "   $$\n",
        "   $$\n",
        "   d(C, D) = \\sqrt{(4-5)^2 + (4-4)^2} = 1\n",
        "   $$\n",
        "\n",
        "   Ближайшие кластеры: $\\{A\\}$ и $\\{B\\}$, $\\{C\\}$ и $\\{D\\}$.\n",
        "\n",
        "3. **Объединение кластеров**:\n",
        "   $$\n",
        "   \\{A, B\\}, \\{C, D\\}\n",
        "   $$\n",
        "\n",
        "4. **Повторение**:\n",
        "   $$\n",
        "   d(\\{A, B\\}, \\{C, D\\}) = \\min(d(A, C), d(A, D), d(B, C), d(B, D)) = \\sqrt{8}\n",
        "   $$\n",
        "\n",
        "   Объединяем оставшиеся кластеры:\n",
        "   $$\n",
        "   \\{A, B, C, D\\}\n",
        "   $$\n",
        "\n",
        "Таким образом, иерархическая кластеризация создает дендрограмму, которая визуализирует процесс объединения кластеров и позволяет пользователю выбрать уровень, на котором следует рассматривать кластеры.\n",
        "\n"
      ],
      "metadata": {
        "id": "bjkSAzNQUJy3"
      }
    },
    {
      "cell_type": "markdown",
      "source": [
        "Реализация на Питон"
      ],
      "metadata": {
        "id": "5mLW48LVUVYD"
      }
    },
    {
      "cell_type": "code",
      "source": [
        "import numpy as np\n",
        "import matplotlib.pyplot as plt\n",
        "from scipy.cluster.hierarchy import dendrogram, linkage\n",
        "\n",
        "# 1. Создаем набор данных\n",
        "points = np.array([[1, 2], [2, 2], [4, 4], [5, 4]])\n",
        "\n",
        "# 2. Вычисляем расстояния и строим дендрограмму\n",
        "# Используем метод 'single' для односвязного метода\n",
        "linked = linkage(points, method='single')\n",
        "\n",
        "# 3. Визуализируем дендрограмму\n",
        "plt.figure(figsize=(10, 7))\n",
        "dendrogram(linked,\n",
        "           orientation='top',\n",
        "           labels=['A', 'B', 'C', 'D'],\n",
        "           distance_sort='descending',\n",
        "           show_leaf_counts=True)\n",
        "plt.title('Dendrogram for Hierarchical Clustering')\n",
        "plt.show()"
      ],
      "metadata": {
        "id": "aXNNIC-qUagd",
        "colab": {
          "base_uri": "https://localhost:8080/",
          "height": 626
        },
        "outputId": "18f6568f-162d-4f75-8031-2ee4a96269bc"
      },
      "execution_count": null,
      "outputs": [
        {
          "output_type": "display_data",
          "data": {
            "text/plain": [
              "<Figure size 1000x700 with 1 Axes>"
            ],
            "image/png": "[encoded data removed]"
          },
          "metadata": {}
        }
      ]
    },
    {
      "cell_type": "markdown",
      "source": [
        "### Объяснение кода:\n",
        "\n",
        "1. **Создание набора данных**: Массив `points` содержит координаты точек в двумерном пространстве.\n",
        "2. **Вычисление расстояний и построение дендрограммы**:\n",
        "   - Функция `linkage` из библиотеки `scipy.cluster.hierarchy` выполняет агломеративную иерархическую кластеризацию. Мы используем метод `single` для односвязного метода.\n",
        "3. **Визуализация дендрограммы**:\n",
        "   - Функция `dendrogram` строит дендрограмму, которая отображает процесс объединения кластеров.\n",
        "   - Параметры `orientation`, `labels`, `distance_sort`, и `show_leaf_counts` помогают настроить внешний вид дендрограммы.\n",
        "\n",
        "Данный  код иллюстрирует простой пример агломеративной иерархической кластеризации с использованием библиотеки `scipy` для работы с реальными данными. Вы можете изменить метод связывания (`single`, `complete`, `average` и др.) для экспериментов с различными подходами к объединению кластеров."
      ],
      "metadata": {
        "id": "r-5RCPRRVB1-"
      }
    },
    {
      "cell_type": "markdown",
      "source": [
        "## Алгоритм DBSCAN"
      ],
      "metadata": {
        "id": "X17db4zOO879"
      }
    },
    {
      "cell_type": "markdown",
      "source": [
        "DBSCAN (Density-Based Spatial Clustering of Applications with Noise) — это метод кластеризации, который определяет кластеры как области высокой плотности данных, отделенные областями низкой плотности. DBSCAN имеет преимущества в выявлении кластеров произвольной формы и в устойчивости к шуму.\n",
        "\n",
        "### Основные параметры DBSCAN:\n",
        "1. **Eps (ε)**: радиус окрестности точки.\n",
        "2. **MinPts**: минимальное количество точек, необходимых для формирования кластера.\n",
        "\n",
        "### Основные понятия DBSCAN:\n",
        "1. **Core Point (ядро)**: Точка, у которой в радиусе ε находится не менее MinPts точек (включая её саму).\n",
        "2. **Border Point (граничная точка)**: Точка, которая находится в пределах ε от core point, но не является core point.\n",
        "3. **Noise Point (шум)**: Точка, которая не является ни core, ни border point.\n",
        "\n",
        "### Алгоритм DBSCAN:\n",
        "1. Для каждой точки $ P $ в датасете выполняется следующее:\n",
        "    - Если $ P $ уже помечена, пропустить её.\n",
        "    - Найти все точки в ε-окрестности $ P $ (ε-окрестность).\n",
        "    - Если ε-окрестность $ P $ содержит не менее MinPts точек, обозначить $ P $ как core point и сформировать новый кластер. В противном случае, пометить $ P $ как шум (позже это может быть изменено, если $ P $ попадет в ε-окрестность другого core point).\n",
        "    - Если $ P $ является core point, рекурсивно добавлять все точки в его ε-окрестности в кластер, включая их ε-окрестности (если эти точки также являются core points).\n",
        "\n",
        "### Математическое объяснение:\n",
        "Для каждой точки $ P $:\n",
        "- Найти множество точек в ε-окрестности:\n",
        "  $$\n",
        "  N_{\\epsilon}(P) = \\{Q \\in D | \\text{dist}(P, Q) \\leq \\epsilon\\}\n",
        "  $$\n",
        "  где $ \\text{dist}(P, Q) $ — расстояние между точками $ P $ и $ Q $ (обычно используется Евклидово расстояние).\n",
        "\n",
        "- Если $ |N_{\\epsilon}(P)| \\geq \\text{MinPts} $, то $ P $ — core point.\n",
        "\n",
        "- Распространять кластер:\n",
        "  Для каждой точки $ P $ в кластере, включать все точки $ Q $ из $ N_{\\epsilon}(P) $, если $ Q $ также является core point, рекурсивно повторяя этот процесс.\n",
        "\n",
        "### Пример:\n",
        "Рассмотрим следующий набор точек на плоскости с параметрами $ \\epsilon = 1 $ и $ \\text{MinPts} = 3 $:\n",
        "\n",
        "$$\n",
        "\\text{Точки}: \\{A(1, 2), B(2, 2), C(2, 3), D(8, 7), E(8, 8), F(25, 80)\\}\n",
        "$$\n",
        "\n",
        "1. **Для точки $ A(1, 2) $**:\n",
        "   $$\n",
        "   N_{\\epsilon}(A) = \\{A(1, 2), B(2, 2)\\}\n",
        "   $$\n",
        "   Размер $ N_{\\epsilon}(A) = 2 $, меньше MinPts, поэтому $ A $ не является core point.\n",
        "\n",
        "2. **Для точки $ B(2, 2) $**:\n",
        "   $$\n",
        "   N_{\\epsilon}(B) = \\{A(1, 2), B(2, 2), C(2, 3)\\}\n",
        "   $$\n",
        "   Размер $ N_{\\epsilon}(B) = 3 $, больше или равно MinPts, поэтому $ B $ является core point и формирует новый кластер. Добавляем $ A $ и $ C $ в кластер.\n",
        "\n",
        "3. **Для точки $ C(2, 3) $**:\n",
        "   $$\n",
        "   N_{\\epsilon}(C) = \\{B(2, 2), C(2, 3)\\}\n",
        "   $$\n",
        "   Размер $ N_{\\epsilon}(C) = 2 $, меньше MinPts, поэтому $ C $ не является core point, но находится в кластере как border point.\n",
        "\n",
        "4. **Для точек $ D(8, 7) $ и $ E(8, 8) $**:\n",
        "   $$\n",
        "   N_{\\epsilon}(D) = \\{D(8, 7), E(8, 8)\\}\n",
        "   $$\n",
        "   $$\n",
        "   N_{\\epsilon}(E) = \\{D(8, 7), E(8, 8)\\}\n",
        "   $$\n",
        "   Обе точки имеют ε-окрестности меньше MinPts и являются шумом.\n",
        "\n",
        "5. **Точка $ F(25, 80) $** изолирована и тоже будет помечена как шум.\n",
        "\n",
        "Итоговый результат:\n",
        "- Один кластер: $\\{A, B, C\\}$\n",
        "- Шум: $D, E, F$\n",
        "\n",
        "Этот пример иллюстрирует, как DBSCAN формирует кластеры на основе плотности точек и позволяет игнорировать изолированные точки как шум.\n",
        "\n"
      ],
      "metadata": {
        "id": "yTTVqeTiO9J1"
      }
    },
    {
      "cell_type": "markdown",
      "source": [
        "Теперm приведем пример реализации алгоритма K-Means на языке Python. Будем использовать библиотеки NumPy для работы с массивами и Matplotlib для визуализации результатов."
      ],
      "metadata": {
        "id": "yYEaFcu6RAfJ"
      }
    },
    {
      "cell_type": "code",
      "source": [
        "import numpy as np\n",
        "from scipy.spatial.distance import euclidean\n",
        "import matplotlib.pyplot as plt\n",
        "\n",
        "# Функция для вычисления ε-окрестности точки\n",
        "def region_query(data, point_idx, eps):\n",
        "    neighbors = []\n",
        "    for i in range(len(data)):\n",
        "        if euclidean(data[point_idx], data[i]) <= eps:\n",
        "            neighbors.append(i)\n",
        "    return neighbors\n",
        "\n",
        "# Функция для расширения кластера\n",
        "def expand_cluster(data, labels, point_idx, cluster_id, eps, min_pts):\n",
        "    neighbors = region_query(data, point_idx, eps)\n",
        "    if len(neighbors) < min_pts:\n",
        "        labels[point_idx] = -1  # Шум\n",
        "        return False\n",
        "    else:\n",
        "        labels[point_idx] = cluster_id\n",
        "        i = 0\n",
        "        while i < len(neighbors):\n",
        "            neighbor_idx = neighbors[i]\n",
        "            if labels[neighbor_idx] == -1:\n",
        "                labels[neighbor_idx] = cluster_id\n",
        "            elif labels[neighbor_idx] == 0:\n",
        "                labels[neighbor_idx] = cluster_id\n",
        "                new_neighbors = region_query(data, neighbor_idx, eps)\n",
        "                if len(new_neighbors) >= min_pts:\n",
        "                    neighbors += new_neighbors\n",
        "            i += 1\n",
        "        return True\n",
        "\n",
        "# Основная функция DBSCAN\n",
        "def dbscan(data, eps, min_pts):\n",
        "    labels = [0] * len(data)\n",
        "    cluster_id = 0\n",
        "    for i in range(len(data)):\n",
        "        if labels[i] == 0:\n",
        "            if expand_cluster(data, labels, i, cluster_id + 1, eps, min_pts):\n",
        "                cluster_id += 1\n",
        "    return labels\n",
        "\n",
        "# Пример данных\n",
        "data = np.array([[1, 2], [2, 2], [2, 3], [8, 7], [8, 8], [25, 80]])\n",
        "\n",
        "# Применение DBSCAN\n",
        "eps = 1.5\n",
        "min_pts = 2\n",
        "labels = dbscan(data, eps, min_pts)\n",
        "\n",
        "# Визуализация результата\n",
        "unique_labels = set(labels)\n",
        "colors = [plt.cm.Spectral(each) for each in np.linspace(0, 1, len(unique_labels))]\n",
        "\n",
        "for k, col in zip(unique_labels, colors):\n",
        "    if k == -1:\n",
        "        col = [0, 0, 0, 1]\n",
        "\n",
        "    class_member_mask = (labels == k)\n",
        "    xy = data[class_member_mask]\n",
        "\n",
        "    plt.plot(xy[:, 0], xy[:, 1], 'o', markerfacecolor=tuple(col), markeredgecolor='k', markersize=10)\n",
        "\n",
        "plt.title(f'DBSCAN: eps={eps}, min_pts={min_pts}')\n",
        "plt.show()"
      ],
      "metadata": {
        "id": "82xX02HePwMB",
        "colab": {
          "base_uri": "https://localhost:8080/",
          "height": 452
        },
        "outputId": "74521988-9c49-472c-9486-6846f9b93c19"
      },
      "execution_count": null,
      "outputs": [
        {
          "output_type": "display_data",
          "data": {
            "text/plain": [
              "<Figure size 640x480 with 1 Axes>"
            ],
            "image/png": "[encoded data removed]"
          },
          "metadata": {}
        }
      ]
    },
    {
      "cell_type": "markdown",
      "source": [
        "\n",
        "**Описание кода:**\n",
        "1. **region_query**: Функция для нахождения всех точек в ε-окрестности заданной точки.\n",
        "2. **expand_cluster**: Функция для расширения кластера, начиная с заданной точки. Если точка не является core point, она помечается как шум.\n",
        "3. **dbscan**: Основная функция DBSCAN, которая помечает каждую точку либо как часть кластера, либо как шум.\n",
        "4. **Пример данных**: Набор данных, который мы используем для демонстрации.\n",
        "5. **Визуализация**: Используем `matplotlib` для визуализации результатов кластеризации.\n"
      ],
      "metadata": {
        "id": "h2yues8NO94q"
      }
    },
    {
      "cell_type": "markdown",
      "source": [
        "## Алгоритм Spectral Clustering"
      ],
      "metadata": {
        "id": "i6Nx5M4hRdPi"
      }
    },
    {
      "cell_type": "markdown",
      "source": [
        "Spectral Clustering — это алгоритм кластеризации, который использует спектральное (связанное с собственными значениями) разложение матрицы подобия данных для выполнения кластеризации. Он особенно полезен для идентификации структурных кластеров в данных, которые не обязательно являются сферическими и могут быть сложно различимы с помощью более простых методов, таких как K-средние.\n",
        "\n",
        "### Как работает Spectral Clustering:\n",
        "\n",
        "1. **Построение матрицы подобия**: Создание матрицы подобия $A$, где $A_{ij}$ показывает степень схожести между точками данных $i$ и $j$. Например, это может быть матрица смежности для графа или матрица, основанная на гауссовом ядре:\n",
        "   $$\n",
        "   A_{ij} = \\exp\\left(-\\frac{\\|x_i - x_j\\|^2}{2\\sigma^2}\\right)\n",
        "   $$\n",
        "   Здесь $\\sigma$ — параметр, контролирующий ширину ядра.\n",
        "\n",
        "2. **Построение матрицы Лапласа**: Из матрицы подобия $A$ строится матрица Лапласа $L$. Матрица Лапласа может быть определена несколькими способами, один из популярных вариантов — нормализованная симметрическая матрица Лапласа:\n",
        "   $$\n",
        "   L = D^{-1/2} A D^{-1/2}\n",
        "   $$\n",
        "   где $D$ — диагональная матрица степеней, в которой элементы $D_{ii} = \\sum_{j} A_{ij}$.\n",
        "\n",
        "3. **Решение задачи о собственных векторах**: Найдите первые $k$ собственных векторов матрицы Лапласа $L$, соответствующих наименьшим собственным значениям (кроме нулевого, если он есть). Пусть эти собственные векторы образуют матрицу $U \\in \\mathbb{R}^{n \\times k}$.\n",
        "\n",
        "4. **Формирование кластеров**: Используйте метод кластеризации (например, K-средние) для кластеризации строк матрицы $U$.\n",
        "\n",
        "### Пример:\n",
        "\n",
        "Предположим, у нас есть набор данных из 5 точек, и мы хотим разделить их на 2 кластера.\n",
        "\n",
        "1. **Построение матрицы подобия**:\n",
        "\n",
        "   Пусть у нас есть 5 точек на плоскости:\n",
        "   $$\n",
        "   X = \\{(1, 2), (2, 3), (3, 3), (8, 8), (8, 9)\\}\n",
        "   $$\n",
        "\n",
        "   Мы можем построить матрицу подобия на основе евклидова расстояния и гауссового ядра. Предположим $\\sigma = 1$.\n",
        "\n",
        "   $$\n",
        "   A = \\begin{pmatrix}\n",
        "   1 & 0.6065 & 0.1353 & 0 & 0 \\\\\n",
        "   0.6065 & 1 & 0.6065 & 0 & 0 \\\\\n",
        "   0.1353 & 0.6065 & 1 & 0 & 0 \\\\\n",
        "   0 & 0 & 0 & 1 & 0.6065 \\\\\n",
        "   0 & 0 & 0 & 0.6065 & 1 \\\\\n",
        "   \\end{pmatrix}\n",
        "   $$\n",
        "\n",
        "2. **Построение матрицы Лапласа**:\n",
        "\n",
        "   $$\n",
        "   D = \\begin{pmatrix}\n",
        "   1.742 & 0 & 0 & 0 & 0 \\\\\n",
        "   0 & 2.213 & 0 & 0 & 0 \\\\\n",
        "   0 & 0 & 1.742 & 0 & 0 \\\\\n",
        "   0 & 0 & 0 & 1.6065 & 0 \\\\\n",
        "   0 & 0 & 0 & 0 & 1.6065 \\\\\n",
        "   \\end{pmatrix}\n",
        "   $$\n",
        "\n",
        "   $$\n",
        "   L = D^{-1/2} A D^{-1/2} = \\begin{pmatrix}\n",
        "   0.7582 & 0.3107 & 0.0784 & 0 & 0 \\\\\n",
        "   0.3107 & 0.6794 & 0.3107 & 0 & 0 \\\\\n",
        "   0.0784 & 0.3107 & 0.7582 & 0 & 0 \\\\\n",
        "   0 & 0 & 0 & 0.7582 & 0.3791 \\\\\n",
        "   0 & 0 & 0 & 0.3791 & 0.7582 \\\\\n",
        "   \\end{pmatrix}\n",
        "   $$\n",
        "\n",
        "3. **Решение задачи о собственных векторах**:\n",
        "\n",
        "   Находим собственные векторы матрицы $L$. Пусть два собственных вектора, соответствующих наименьшим собственным значениям, образуют матрицу $U$.\n",
        "\n",
        "   $$\n",
        "   U = \\begin{pmatrix}\n",
        "   u_{11} & u_{12} \\\\\n",
        "   u_{21} & u_{22} \\\\\n",
        "   u_{31} & u_{32} \\\\\n",
        "   u_{41} & u_{42} \\\\\n",
        "   u_{51} & u_{52} \\\\\n",
        "   \\end{pmatrix}\n",
        "   $$\n",
        "\n",
        "   Предположим, что первые два собственных вектора:\n",
        "\n",
        "   $$\n",
        "   U = \\begin{pmatrix}\n",
        "   0.5 & -0.5 \\\\\n",
        "   0.6 & -0.4 \\\\\n",
        "   0.5 & -0.5 \\\\\n",
        "   -0.5 & 0.5 \\\\\n",
        "   -0.4 & 0.6 \\\\\n",
        "   \\end{pmatrix}\n",
        "   $$\n",
        "\n",
        "4. **Формирование кластеров**:\n",
        "\n",
        "   Применим алгоритм K-средних к строкам матрицы $U$. Получаем два кластера.\n",
        "\n",
        "Таким образом, Spectral Clustering полезен для кластеризации данных с произвольной формой кластеров и использует спектральные свойства матрицы подобия данных для разделения на кластеры. Он особенно эффективен в задачах, где кластеры имеют сложные границы.\n"
      ],
      "metadata": {
        "id": "xz_avyH2RiI_"
      }
    },
    {
      "cell_type": "markdown",
      "source": [
        "Реализация на Питон"
      ],
      "metadata": {
        "id": "lv5zqNfuU23Q"
      }
    },
    {
      "cell_type": "code",
      "source": [
        "import numpy as np\n",
        "import matplotlib.pyplot as plt\n",
        "from sklearn.cluster import SpectralClustering\n",
        "from sklearn.metrics.pairwise import rbf_kernel\n",
        "\n",
        "# Генерация данных\n",
        "X = np.array([[1, 2], [2, 3], [3, 3], [8, 8], [8, 9]])\n",
        "\n",
        "# Построение матрицы подобия с использованием гауссового ядра\n",
        "sigma = 1.0\n",
        "affinity_matrix = rbf_kernel(X, gamma=1 / (2 * sigma ** 2))\n",
        "\n",
        "# Вывод матрицы подобия\n",
        "print(\"Матрица подобия:\")\n",
        "print(affinity_matrix)\n",
        "\n",
        "# Спектральная кластеризация\n",
        "n_clusters = 2\n",
        "spectral = SpectralClustering(n_clusters=n_clusters, affinity='precomputed')\n",
        "labels = spectral.fit_predict(affinity_matrix)\n",
        "\n",
        "# Вывод результатов кластеризации\n",
        "print(\"Метки кластеров:\")\n",
        "print(labels)\n",
        "\n",
        "# Визуализация кластеров\n",
        "for label in np.unique(labels):\n",
        "    plt.scatter(X[labels == label][:, 0], X[labels == label][:, 1], label=f\"Cluster {label}\")\n",
        "plt.legend()\n",
        "plt.title(\"Spectral Clustering\")\n",
        "plt.xlabel(\"X1\")\n",
        "plt.ylabel(\"X2\")\n",
        "plt.show()"
      ],
      "metadata": {
        "id": "jRdq26e_U6ng",
        "colab": {
          "base_uri": "https://localhost:8080/",
          "height": 698
        },
        "outputId": "90c59d6a-00f9-4cbf-f48a-ed9d2f79216b"
      },
      "execution_count": null,
      "outputs": [
        {
          "output_type": "stream",
          "name": "stdout",
          "text": [
            "Матрица подобия:\n",
            "[[1.00000000e+00 3.67879441e-01 8.20849986e-02 3.48726153e-19\n",
            "  5.24288566e-22]\n",
            " [3.67879441e-01 1.00000000e+00 6.06530660e-01 5.67568523e-14\n",
            "  2.31952283e-16]\n",
            " [8.20849986e-02 6.06530660e-01 1.00000000e+00 1.38879439e-11\n",
            "  5.67568523e-14]\n",
            " [3.48726153e-19 5.67568523e-14 1.38879439e-11 1.00000000e+00\n",
            "  6.06530660e-01]\n",
            " [5.24288566e-22 2.31952283e-16 5.67568523e-14 6.06530660e-01\n",
            "  1.00000000e+00]]\n",
            "Метки кластеров:\n",
            "[0 0 0 1 1]\n"
          ]
        },
        {
          "output_type": "display_data",
          "data": {
            "text/plain": [
              "<Figure size 640x480 with 1 Axes>"
            ],
            "image/png": "[encoded data removed]"
          },
          "metadata": {}
        }
      ]
    },
    {
      "cell_type": "markdown",
      "source": [
        "**Объяснение кода:**\n",
        "\n",
        "1. **Импорт необходимых библиотек**:\n",
        "   - `numpy` для работы с массивами.\n",
        "   - `matplotlib` для визуализации.\n",
        "   - `SpectralClustering` из `sklearn` для реализации спектральной кластеризации.\n",
        "   - `rbf_kernel` из `sklearn` для построения матрицы подобия на основе гауссового ядра.\n",
        "\n",
        "2. **Генерация данных**:\n",
        "   - Создаем массив `X` с координатами точек.\n",
        "\n",
        "3. **Построение матрицы подобия**:\n",
        "   - Используем гауссово ядро для вычисления матрицы подобия `affinity_matrix`.\n",
        "\n",
        "4. **Спектральная кластеризация**:\n",
        "   - Создаем объект `SpectralClustering` с параметрами `n_clusters` и `affinity='precomputed'`.\n",
        "   - Применяем метод `fit_predict` к матрице подобия, чтобы получить метки кластеров.\n",
        "\n",
        "5. **Вывод результатов**:\n",
        "   - Печатаем матрицу подобия и метки кластеров.\n",
        "\n",
        "6. **Визуализация кластеров**:\n",
        "   - С помощью `matplotlib` отображаем точки данных и раскрашиваем их в соответствии с кластерами.\n"
      ],
      "metadata": {
        "id": "0cR3xMNgVPVj"
      }
    },
    {
      "cell_type": "markdown",
      "source": [
        "## Алгоритм OPTICS Clustering"
      ],
      "metadata": {
        "id": "A7RGHcDz1e_c"
      }
    },
    {
      "cell_type": "markdown",
      "source": [
        "OPTICS (Ordering Points To Identify the Clustering Structure) — это алгоритм кластеризации, предназначенный для выявления кластерной структуры данных, особенно в ситуациях, когда кластеры имеют различные плотности. В отличие от других алгоритмов, таких как DBSCAN, OPTICS не требует заранее задавать фиксированное значение для максимального радиуса (eps) и позволяет выявлять кластеры с различной плотностью.\n",
        "\n",
        "Конечно, давайте рассмотрим алгоритм OPTICS, используя математические обозначения с $$ и $.\n",
        "\n",
        "### Основные математические понятия\n",
        "\n",
        "#### Матрица расстояний\n",
        "\n",
        "Пусть $D$ — это множество точек данных. Для каждой точки $p \\in D$ определим расстояние до каждой другой точки в $D$. Матрица расстояний $dist(p, q)$ представляет собой матрицу, где каждая запись $(i, j)$ соответствует расстоянию между точками $p_i$ и $p_j$. Обычно используется евклидово расстояние:\n",
        "$$\n",
        "dist(p, q) = \\sqrt{\\sum_{i=1}^d (p_i - q_i)^2}\n",
        "$$\n",
        "где $d$ — размерность данных.\n",
        "\n",
        "#### Основное расстояние (Core Distance)\n",
        "\n",
        "Для точки $p$ основное расстояние $\\text{core_dist}(p)$ — это минимальный радиус, при котором в окрестности $p$ содержится не менее MinPts точек, включая саму точку $p$. Формально:\n",
        "$$\n",
        "\\text{core_dist}(p) =\n",
        "\\begin{cases}\n",
        "\\text{distance}(p, \\text{MinPts-ый ближайший сосед}), & \\text{если } |N_{\\epsilon}(p)| \\geq \\text{MinPts} \\\\\n",
        "\\text{undefined}, & \\text{если } |N_{\\epsilon}(p)| < \\text{MinPts}\n",
        "\\end{cases}\n",
        "$$\n",
        "\n",
        "#### Достижимое расстояние (Reachability Distance)\n",
        "\n",
        "Достижимое расстояние $\\text{reachability_dist}(o, p)$ для точки $p$ относительно точки $o$ определяется как максимальное из основного расстояния точки $o$ и расстояния между $o$ и $p$:\n",
        "$$\n",
        "\\text{reachability_dist}(o, p) = \\max(\\text{core_dist}(o), \\text{distance}(o, p))\n",
        "$$\n",
        "\n",
        "### Пошаговый алгоритм OPTICS\n",
        "\n",
        "1. **Инициализация**: Все точки данных помечаются как непосещенные. Основное расстояние и достижимое расстояние для всех точек инициализируются как неопределенные.\n",
        "\n",
        "2. **Обход точек**: Для каждой точки $p$, если она еще не была посещена:\n",
        "   - Найти соседей $N_{\\epsilon}(p)$ в радиусе $\\epsilon$.\n",
        "   - Рассчитать основное расстояние $\\text{core_dist}(p)$.\n",
        "   - Пометить точку $p$ как посещенную и добавить в упорядоченный список.\n",
        "   - Если точка $p$ является основной точкой (имеет достаточно соседей), расширить кластер.\n",
        "\n",
        "3. **Расширение кластера**: Используется приоритетная очередь для хранения точек, которые должны быть обработаны:\n",
        "   - Обновить достижимое расстояние для всех соседей точки $p$.\n",
        "   - Добавить точку в очередь с приоритетом, равным достижимому расстоянию.\n",
        "   - Обработать точку с наименьшим достижимым расстоянием из очереди и повторить процесс.\n",
        "\n",
        "### Пример на числовых данных\n",
        "\n",
        "Рассмотрим простой пример с пятью точками:\n",
        "\n",
        "$$ \\{(1, 1), (2, 2), (3, 3), (8, 8), (9, 9)\\} $$\n",
        "\n",
        "и параметрами $ \\epsilon = 3 $ и $ \\text{MinPts} = 2 $.\n",
        "\n",
        "#### Шаги:\n",
        "\n",
        "1. **Матрица расстояний**:\n",
        "$$\n",
        "\\begin{matrix}\n",
        "& (1,1) & (2,2) & (3,3) & (8,8) & (9,9) \\\\\n",
        "(1,1) & 0 & 1.41 & 2.83 & 9.90 & 11.31 \\\\\n",
        "(2,2) & 1.41 & 0 & 1.41 & 8.49 & 9.90 \\\\\n",
        "(3,3) & 2.83 & 1.41 & 0 & 7.07 & 8.49 \\\\\n",
        "(8,8) & 9.90 & 8.49 & 7.07 & 0 & 1.41 \\\\\n",
        "(9,9) & 11.31 & 9.90 & 8.49 & 1.41 & 0 \\\\\n",
        "\\end{matrix}\n",
        "$$\n",
        "\n",
        "2. **Основное расстояние**:\n",
        "   - Для точки $(1,1)$: основное расстояние = 1.41 (расстояние до $(2,2)$).\n",
        "   - Для точки $(8,8)$: основное расстояние = 1.41 (расстояние до $(9,9)$).\n",
        "\n",
        "3. **Достижимое расстояние**:\n",
        "   - Для точки $(2,2)$ относительно $(1,1)$: достижимое расстояние = $\\max(1.41, 1.41) = 1.41$.\n",
        "   - Для точки $(3,3)$ относительно $(2,2)$: достижимое расстояние = $\\max(1.41, 1.41) = 1.41$.\n",
        "\n",
        "### Реализация на Python\n",
        "\n",
        "Теперь давайте рассмотрим более детальную реализацию алгоритма OPTICS на Python без использования внешних библиотек, таких как `sklearn`:\n",
        "\n",
        "\n",
        "\n"
      ],
      "metadata": {
        "id": "HSpwFkVy1iPW"
      }
    },
    {
      "cell_type": "code",
      "source": [
        "import numpy as np\n",
        "from heapq import heappush, heappop\n",
        "\n",
        "class OPTICS:\n",
        "    def __init__(self, min_samples=5, max_eps=float('inf')):\n",
        "        self.min_samples = min_samples\n",
        "        self.max_eps = max_eps\n",
        "\n",
        "    def fit(self, X):\n",
        "        self.X = X\n",
        "        self.n = X.shape[0]\n",
        "        self.reachability_ = np.full(self.n, np.inf)\n",
        "        self.core_dist_ = np.full(self.n, np.inf)\n",
        "        self.ordering_ = []\n",
        "\n",
        "        self._processed = np.full(self.n, False)\n",
        "\n",
        "        for point in range(self.n):\n",
        "            if not self._processed[point]:\n",
        "                self._expand_cluster_order(point)\n",
        "\n",
        "        return self\n",
        "\n",
        "    def _expand_cluster_order(self, point):\n",
        "        neighbors = self._get_neighbors(point)\n",
        "        self._processed[point] = True\n",
        "        self.ordering_.append(point)\n",
        "\n",
        "        if len(neighbors) >= self.min_samples:\n",
        "            self.core_dist_[point] = self._core_distance(point, neighbors)\n",
        "            seeds = []\n",
        "            self._update(point, neighbors, seeds)\n",
        "            while seeds:\n",
        "                current_point = heappop(seeds)[1]\n",
        "                current_neighbors = self._get_neighbors(current_point)\n",
        "                self._processed[current_point] = True\n",
        "                self.ordering_.append(current_point)\n",
        "\n",
        "                if len(current_neighbors) >= self.min_samples:\n",
        "                    self.core_dist_[current_point] = self._core_distance(current_point, current_neighbors)\n",
        "                    self._update(current_point, current_neighbors, seeds)\n",
        "\n",
        "    def _update(self, point, neighbors, seeds):\n",
        "        for neighbor in neighbors:\n",
        "            if not self._processed[neighbor]:\n",
        "                new_reachability_dist = max(self.core_dist_[point], self._distance(point, neighbor))\n",
        "                if new_reachability_dist < self.reachability_[neighbor]:\n",
        "                    self.reachability_[neighbor] = new_reachability_dist\n",
        "                    heappush(seeds, (new_reachability_dist, neighbor))\n",
        "\n",
        "    def _core_distance(self, point, neighbors):\n",
        "        if len(neighbors) >= self.min_samples:\n",
        "            sorted_distances = sorted([self._distance(point, neighbor) for neighbor in neighbors])\n",
        "            return sorted_distances[self.min_samples - 1]\n",
        "        return np.inf\n",
        "\n",
        "    def _get_neighbors(self, point):\n",
        "        neighbors = []\n",
        "        for other_point in range(self.n):\n",
        "            if self._distance(point, other_point) <= self.max_eps:\n",
        "                neighbors.append(other_point)\n",
        "        return neighbors\n",
        "\n",
        "    def _distance(self, point1, point2):\n",
        "        return np.linalg.norm(self.X[point1] - self.X[point2])\n",
        "\n",
        "# Пример использования\n",
        "X = np.array([\n",
        "    [1, 1], [2, 2], [3, 3], [8, 8], [9, 9]\n",
        "])\n",
        "\n",
        "optics = OPTICS(min_samples=2, max_eps=3.0)\n",
        "optics.fit(X)\n",
        "\n",
        "print(\"Ordering of points:\", optics.ordering_)\n",
        "print(\"Reachability distances:\", optics.reachability_)\n",
        "print(\"Core distances:\", optics.core_dist_)\n"
      ],
      "metadata": {
        "id": "JHjihbWF3v5W",
        "colab": {
          "base_uri": "https://localhost:8080/"
        },
        "outputId": "ee8d7f9e-9af1-4ed1-c6d2-7f399bbee22f"
      },
      "execution_count": null,
      "outputs": [
        {
          "output_type": "stream",
          "name": "stdout",
          "text": [
            "Ordering of points: [0, 1, 2, 2, 3, 4]\n",
            "Reachability distances: [       inf 1.41421356 1.41421356        inf 1.41421356]\n",
            "Core distances: [1.41421356 1.41421356 1.41421356 1.41421356 1.41421356]\n"
          ]
        }
      ]
    },
    {
      "cell_type": "markdown",
      "source": [
        "### Описание кода\n",
        "\n",
        "1. **Инициализация**: Класс `OPTICS` инициализируется параметрами `min_samples` и `max_eps`.\n",
        "2. **Функция `fit`**: Основная функция, которая выполняет алгоритм кластеризации. Инициализируются массивы для хранения расстояний достижимости и основных расстояний.\n",
        "3. **Функция `_expand_cluster_order`**: Расширяет кластер, добавляя точки в упорядоченный список и обновляя расстояния достижимости.\n",
        "4. **Функция `_update`**: Обновляет достижимые расстояния для соседей.\n",
        "5. **Функция `_core_distance`**: Вычисляет основное расстояние для точки.\n",
        "6. **Функция `_get_neighbors`**: Находит соседей точки в радиусе `max_eps`.\n",
        "7. **Функция `_distance`**: Вычисляет евклидово расстояние между точками."
      ],
      "metadata": {
        "id": "30ZdoNi94N1a"
      }
    }
  ]
}